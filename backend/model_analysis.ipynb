{
 "cells": [
  {
   "cell_type": "code",
   "execution_count": 1,
   "metadata": {},
   "outputs": [],
   "source": [
    "import matplotlib.pyplot as plt\n",
    "import pandas as pd\n",
    "from random_data_analysis import get_path_lengths_for_all_users, decisions_to_subject_decisions\n",
    "from data_parser import convert_data, get_csv"
   ]
  },
  {
   "cell_type": "code",
   "execution_count": 2,
   "metadata": {},
   "outputs": [
    {
     "data": {
      "text/html": [
       "<div>\n",
       "<style scoped>\n",
       "    .dataframe tbody tr th:only-of-type {\n",
       "        vertical-align: middle;\n",
       "    }\n",
       "\n",
       "    .dataframe tbody tr th {\n",
       "        vertical-align: top;\n",
       "    }\n",
       "\n",
       "    .dataframe thead th {\n",
       "        text-align: right;\n",
       "    }\n",
       "</style>\n",
       "<table border=\"1\" class=\"dataframe\">\n",
       "  <thead>\n",
       "    <tr style=\"text-align: right;\">\n",
       "      <th></th>\n",
       "      <th>subject</th>\n",
       "      <th>preferred_model</th>\n",
       "      <th>evaluation</th>\n",
       "      <th>parameters</th>\n",
       "    </tr>\n",
       "  </thead>\n",
       "  <tbody>\n",
       "    <tr>\n",
       "      <th>0</th>\n",
       "      <td>0e9aebe0-7972-11ed-9421-5535258a0716</td>\n",
       "      <td>Combined_Memory</td>\n",
       "      <td>-0.437731</td>\n",
       "      <td>[0.0, 1.5, 0.75, 0.1, 10.0]</td>\n",
       "    </tr>\n",
       "    <tr>\n",
       "      <th>1</th>\n",
       "      <td>14914210-7972-11ed-a3bb-674c56c9a5f7</td>\n",
       "      <td>Combined_Memory</td>\n",
       "      <td>-0.449267</td>\n",
       "      <td>[0.0, 1.0, 0.5, 0.1, 10.0]</td>\n",
       "    </tr>\n",
       "    <tr>\n",
       "      <th>2</th>\n",
       "      <td>1af65fa0-7972-11ed-8e76-65fbafc77b31</td>\n",
       "      <td>Steps_Cells</td>\n",
       "      <td>-0.475267</td>\n",
       "      <td>[2.0, 10.0]</td>\n",
       "    </tr>\n",
       "    <tr>\n",
       "      <th>3</th>\n",
       "      <td>1c5fb3a0-7972-11ed-92f5-192da827d727</td>\n",
       "      <td>Probability_Weighted</td>\n",
       "      <td>-0.459824</td>\n",
       "      <td>[1.0, 1.25, 10.0]</td>\n",
       "    </tr>\n",
       "    <tr>\n",
       "      <th>4</th>\n",
       "      <td>1ed4f960-7972-11ed-abfe-53a0662f3357</td>\n",
       "      <td>Random</td>\n",
       "      <td>-0.484267</td>\n",
       "      <td>[0.0, 10.0]</td>\n",
       "    </tr>\n",
       "  </tbody>\n",
       "</table>\n",
       "</div>"
      ],
      "text/plain": [
       "                                subject       preferred_model  evaluation  \\\n",
       "0  0e9aebe0-7972-11ed-9421-5535258a0716       Combined_Memory   -0.437731   \n",
       "1  14914210-7972-11ed-a3bb-674c56c9a5f7       Combined_Memory   -0.449267   \n",
       "2  1af65fa0-7972-11ed-8e76-65fbafc77b31           Steps_Cells   -0.475267   \n",
       "3  1c5fb3a0-7972-11ed-92f5-192da827d727  Probability_Weighted   -0.459824   \n",
       "4  1ed4f960-7972-11ed-abfe-53a0662f3357                Random   -0.484267   \n",
       "\n",
       "                    parameters  \n",
       "0  [0.0, 1.5, 0.75, 0.1, 10.0]  \n",
       "1   [0.0, 1.0, 0.5, 0.1, 10.0]  \n",
       "2                  [2.0, 10.0]  \n",
       "3            [1.0, 1.25, 10.0]  \n",
       "4                  [0.0, 10.0]  "
      ]
     },
     "execution_count": 2,
     "metadata": {},
     "output_type": "execute_result"
    }
   ],
   "source": [
    "df = pd.read_csv('data/current_model_prefs.csv')\n",
    "df.drop('Unnamed: 0', axis=1, inplace=True)\n",
    "df.head()"
   ]
  },
  {
   "cell_type": "code",
   "execution_count": 3,
   "metadata": {},
   "outputs": [],
   "source": [
    "# get fraction of subjects who prefer each model\n",
    "bar_chart_data = {}\n",
    "for model in ['Combined_Memory', 'Combined_No_Memory', 'Steps_Cells', 'Discounted_Utility', 'Probability_Weighted', 'Expected_Utility', 'Random']:\n",
    "    bar_chart_data[model] = df[df['preferred_model'] == model]['subject'].nunique()/df['subject'].nunique()"
   ]
  },
  {
   "cell_type": "code",
   "execution_count": 4,
   "metadata": {},
   "outputs": [
    {
     "data": {
      "image/png": "[encoded data removed]",
      "text/plain": [
       "<Figure size 640x480 with 1 Axes>"
      ]
     },
     "metadata": {},
     "output_type": "display_data"
    }
   ],
   "source": [
    "# plot bar chart in sorted order\n",
    "sorted_keys = sorted(bar_chart_data, key=bar_chart_data.get, reverse=True)\n",
    "sorted_values = [bar_chart_data[key] for key in sorted_keys]\n",
    "plt.bar(sorted_keys, sorted_values)\n",
    "plt.xticks(rotation='vertical')\n",
    "plt.show()"
   ]
  },
  {
   "cell_type": "code",
   "execution_count": null,
   "metadata": {},
   "outputs": [],
   "source": []
  },
  {
   "cell_type": "markdown",
   "metadata": {},
   "source": [
    "### Parameters"
   ]
  },
  {
   "cell_type": "code",
   "execution_count": 5,
   "metadata": {},
   "outputs": [],
   "source": [
    "import numpy as np"
   ]
  },
  {
   "cell_type": "markdown",
   "metadata": {},
   "source": [
    "param order for combined memory: discount factor, bad estimation factor, memory weight, learning rate"
   ]
  },
  {
   "cell_type": "markdown",
   "metadata": {},
   "source": [
    "Note: tau (the softmax parameter) is fixed at 10"
   ]
  },
  {
   "cell_type": "code",
   "execution_count": 6,
   "metadata": {},
   "outputs": [
    {
     "name": "stdout",
     "output_type": "stream",
     "text": [
      "{'Combined_Memory': [0.0, 1.5, 0.5, 0.1, 10.0], 'Steps_Cells': [1.5, 10.0], 'Probability_Weighted': [1.0, 0.75, 10.0], 'Random': [0.0, 10.0]}\n"
     ]
    }
   ],
   "source": [
    "# calculate the median best parameters for each model\n",
    "median_params = {}\n",
    "for model in ['Combined_Memory', 'Steps_Cells', 'Probability_Weighted', 'Random']:\n",
    "    params = df[df['preferred_model'] == model]['parameters']\n",
    "    for param in params:\n",
    "        if model not in median_params:\n",
    "            median_params[model] = [[] for i in range(len(eval(param)))]\n",
    "        for i, val in enumerate(eval(param)):\n",
    "            median_params[model][i].append(val)\n",
    "    median_params[model] = [np.median(vals) for vals in median_params[model]]\n",
    "print(median_params)"
   ]
  },
  {
   "cell_type": "code",
   "execution_count": null,
   "metadata": {},
   "outputs": [],
   "source": []
  },
  {
   "cell_type": "markdown",
   "metadata": {},
   "source": [
    "## Humans + Models"
   ]
  },
  {
   "cell_type": "markdown",
   "metadata": {},
   "source": [
    "### Humans"
   ]
  },
  {
   "cell_type": "code",
   "execution_count": 7,
   "metadata": {},
   "outputs": [],
   "source": [
    "# get total steps taken by each subject\n",
    "decisions = convert_data(get_csv('data/prolific_data_filtered'))\n",
    "path_lengths_by_user = get_path_lengths_for_all_users(decisions)\n",
    "total_path_length_per_user = []\n",
    "for tester_id in path_lengths_by_user:\n",
    "    total_path_length_per_user.append(sum(path_lengths_by_user[tester_id]))"
   ]
  },
  {
   "cell_type": "code",
   "execution_count": 8,
   "metadata": {},
   "outputs": [
    {
     "data": {
      "image/png": "[encoded data removed]",
      "text/plain": [
       "<Figure size 640x480 with 1 Axes>"
      ]
     },
     "metadata": {},
     "output_type": "display_data"
    }
   ],
   "source": [
    "# plot avg total path length for each user and for each model\n",
    "plt.hist(total_path_length_per_user, bins=20, histtype = 'bar', edgecolor='black', color='#BDB5D5')\n",
    "plt.ylabel('Frequency')\n",
    "plt.xlabel('Path length')\n",
    "plt.title('Histogram for human path length across all mazes')\n",
    "plt.show()"
   ]
  },
  {
   "cell_type": "markdown",
   "metadata": {},
   "source": [
    "### Correlations"
   ]
  },
  {
   "cell_type": "code",
   "execution_count": 9,
   "metadata": {},
   "outputs": [],
   "source": [
    "from decisionmodel import DecisionModel, blind_nodevalue_comb, blind_nodevalue_with_memory, softmax_complement, random_heuristic, steps_cells_heuristic\n",
    "from avg_log_likelihood import avg_log_likelihood_decisions\n",
    "from test_mazes import mazes\n",
    "from scipy.stats import pearsonr"
   ]
  },
  {
   "cell_type": "code",
   "execution_count": 10,
   "metadata": {},
   "outputs": [],
   "source": [
    "# calculate human choice probabilities\n",
    "subject_decisions = decisions_to_subject_decisions(decisions)\n",
    "human_choice_probs = {}\n",
    "for subject in subject_decisions:\n",
    "    for decision in subject_decisions[subject]:\n",
    "        if decision[0] in human_choice_probs:\n",
    "            if decision[1] in human_choice_probs[decision[0]]:\n",
    "                human_choice_probs[decision[0]][decision[1]] += 1\n",
    "            else:\n",
    "                human_choice_probs[decision[0]][decision[1]] = 1\n",
    "        else:\n",
    "            human_choice_probs[decision[0]] = {}\n",
    "            human_choice_probs[decision[0]][decision[1]] = 1\n",
    "for maze in human_choice_probs:\n",
    "    total = sum(human_choice_probs[maze].values())\n",
    "    for choice in human_choice_probs[maze]:\n",
    "        human_choice_probs[maze][choice] /= total\n"
   ]
  },
  {
   "cell_type": "code",
   "execution_count": 11,
   "metadata": {},
   "outputs": [],
   "source": [
    "expected_utility_model = DecisionModel('Expected_Utility', parent_params=(10,), node_params=(1,1), raw_nodevalue_func=blind_nodevalue_comb, parent_nodeprob_func=softmax_complement)\n",
    "discounted_utility_model = DecisionModel('Discounted_Utility', parent_params=(10,), node_params=(.5,1), raw_nodevalue_func=blind_nodevalue_comb, parent_nodeprob_func=softmax_complement)\n",
    "random_model = DecisionModel('Random', parent_params=(10,), node_params=(None,), raw_nodevalue_func=random_heuristic, parent_nodeprob_func=softmax_complement)\n",
    "probability_weighted_utility_model = DecisionModel('Probability_Weighted', parent_params=(10,), node_params=(1,.75), raw_nodevalue_func=blind_nodevalue_comb, parent_nodeprob_func=softmax_complement)\n",
    "steps_cells_heuristic_model = DecisionModel('Steps_Cells', parent_params=(10,), node_params=(1.5,), raw_nodevalue_func=steps_cells_heuristic, parent_nodeprob_func=softmax_complement)\n",
    "combined_no_memory_model = DecisionModel('Combined_No_Memory', parent_params=(10,), node_params=(0,1.5), raw_nodevalue_func=blind_nodevalue_comb, parent_nodeprob_func=softmax_complement)\n",
    "combined_memory_model = DecisionModel('Combined_Memory', parent_params=(10,), node_params=(0,1.5,0.5,.1), raw_nodevalue_func=blind_nodevalue_with_memory, parent_nodeprob_func=softmax_complement)\n",
    "models = [expected_utility_model, discounted_utility_model, random_model, probability_weighted_utility_model, steps_cells_heuristic_model, combined_no_memory_model, combined_memory_model]"
   ]
  },
  {
   "cell_type": "code",
   "execution_count": 12,
   "metadata": {},
   "outputs": [],
   "source": [
    "human_decision_to_prob = {(maze, choice): prob for maze in human_choice_probs for choice, prob in human_choice_probs[maze].items()}"
   ]
  },
  {
   "cell_type": "code",
   "execution_count": 13,
   "metadata": {},
   "outputs": [
    {
     "name": "stderr",
     "output_type": "stream",
     "text": [
      "/Users/nabilbaugher/opt/anaconda3/lib/python3.8/site-packages/scipy/stats/_stats_py.py:4427: ConstantInputWarning: An input array is constant; the correlation coefficient is not defined.\n",
      "  warnings.warn(stats.ConstantInputWarning(msg))\n"
     ]
    },
    {
     "name": "stdout",
     "output_type": "stream",
     "text": [
      "{'Expected_Utility': 0.8308693056605208, 'Discounted_Utility': 0.8073210674285807, 'Random': 0.7974949140163685, 'Probability_Weighted': 0.8199021019841274, 'Steps_Cells': 0.8144606723213286, 'Combined_No_Memory': 0.7981829454514996, 'Combined_Memory': 0.8562451522999887}\n"
     ]
    }
   ],
   "source": [
    "import math\n",
    "def compute_correlation(human_choice_probs, model_choice_probs):\n",
    "    correlations = []\n",
    "    x = []\n",
    "    y = []\n",
    "    for maze_object, human_probs in human_choice_probs.items():\n",
    "        model_probs = model_choice_probs[maze_object]\n",
    "        # Make sure that the human and model choice probabilities are for the same children\n",
    "        # assert set(human_probs.keys()) == set(model_probs.keys())\n",
    "        # Convert the dictionaries of choice probabilities to lists\n",
    "        human_probs_list = [human_probs[child] for child in human_probs]\n",
    "        model_probs_list = [model_probs[child] for child in human_probs]\n",
    "        x.extend(human_probs_list)\n",
    "        y.extend(model_probs_list)\n",
    "        # print(len(human_probs_list), len(model_probs_list))\n",
    "        # Compute the Pearson correlation coefficient\n",
    "        if len(human_probs_list) > 1:\n",
    "            r, _ = pearsonr(human_probs_list, model_probs_list)\n",
    "            if math.isnan(r):\n",
    "                correlations.append(0)\n",
    "            else:\n",
    "                correlations.append(r)\n",
    "        else:\n",
    "            correlations.append(1)\n",
    "    return correlations\n",
    "\n",
    "\n",
    "# calculate the correlation between human choice probabilities and model choice probabilities for each model\n",
    "result = {}\n",
    "mazes_list = [mazes[maze_name] for maze_name in mazes]\n",
    "\n",
    "for model in models:\n",
    "    choice_probs_list = model.choice_probs(mazes_list)\n",
    "    all_model_choice_probs = {}\n",
    "    for cp in model.choice_probs(mazes_list):\n",
    "        all_model_choice_probs.update(cp)\n",
    "    correlations = compute_correlation(human_choice_probs, all_model_choice_probs)\n",
    "    avg_correlation = sum(correlations) / len(correlations)\n",
    "    result[model.model_name] = avg_correlation\n",
    "\n",
    "print(result)"
   ]
  },
  {
   "cell_type": "code",
   "execution_count": null,
   "metadata": {},
   "outputs": [],
   "source": []
  },
  {
   "cell_type": "code",
   "execution_count": null,
   "metadata": {},
   "outputs": [],
   "source": []
  },
  {
   "cell_type": "code",
   "execution_count": 15,
   "metadata": {},
   "outputs": [
    {
     "name": "stdout",
     "output_type": "stream",
     "text": [
      "Expected_Utility 1\n",
      "Expected_Utility 2\n",
      "Expected_Utility 3\n",
      "Expected_Utility 4\n",
      "Expected_Utility 5\n",
      "Expected_Utility 6\n",
      "Expected_Utility 7\n",
      "Expected_Utility 8\n",
      "Expected_Utility 9\n",
      "Expected_Utility 10\n",
      "Expected_Utility 11\n",
      "Expected_Utility 12\n",
      "Expected_Utility 13\n",
      "Expected_Utility 14\n",
      "Expected_Utility 15\n",
      "Expected_Utility 16\n",
      "Expected_Utility 17\n",
      "Expected_Utility 18\n",
      "Expected_Utility 19\n",
      "Expected_Utility 20\n",
      "Expected_Utility 21\n",
      "Expected_Utility 22\n",
      "Expected_Utility 23\n",
      "Expected_Utility 24\n",
      "Expected_Utility 25\n",
      "Expected_Utility 26\n",
      "Expected_Utility 27\n",
      "Expected_Utility 28\n",
      "Expected_Utility 29\n",
      "Expected_Utility 30\n",
      "Discounted_Utility 1\n",
      "Discounted_Utility 2\n",
      "Discounted_Utility 3\n",
      "Discounted_Utility 4\n",
      "Discounted_Utility 5\n",
      "Discounted_Utility 6\n",
      "Discounted_Utility 7\n",
      "Discounted_Utility 8\n",
      "Discounted_Utility 9\n",
      "Discounted_Utility 10\n",
      "Discounted_Utility 11\n",
      "Discounted_Utility 12\n",
      "Discounted_Utility 13\n",
      "Discounted_Utility 14\n",
      "Discounted_Utility 15\n",
      "Discounted_Utility 16\n",
      "Discounted_Utility 17\n",
      "Discounted_Utility 18\n",
      "Discounted_Utility 19\n",
      "Discounted_Utility 20\n",
      "Discounted_Utility 21\n",
      "Discounted_Utility 22\n",
      "Discounted_Utility 23\n",
      "Discounted_Utility 24\n",
      "Discounted_Utility 25\n",
      "Discounted_Utility 26\n",
      "Discounted_Utility 27\n",
      "Discounted_Utility 28\n",
      "Discounted_Utility 29\n",
      "Discounted_Utility 30\n",
      "Random 1\n",
      "Random 2\n",
      "Random 3\n",
      "Random 4\n",
      "Random 5\n",
      "Random 6\n",
      "Random 7\n",
      "Random 8\n",
      "Random 9\n",
      "Random 10\n",
      "Random 11\n",
      "Random 12\n",
      "Random 13\n",
      "Random 14\n",
      "Random 15\n",
      "Random 16\n",
      "Random 17\n",
      "Random 18\n",
      "Random 19\n",
      "Random 20\n",
      "Random 21\n",
      "Random 22\n",
      "Random 23\n",
      "Random 24\n",
      "Random 25\n",
      "Random 26\n",
      "Random 27\n",
      "Random 28\n",
      "Random 29\n",
      "Random 30\n",
      "Probability_Weighted 1\n",
      "Probability_Weighted 2\n",
      "Probability_Weighted 3\n",
      "Probability_Weighted 4\n",
      "Probability_Weighted 5\n",
      "Probability_Weighted 6\n",
      "Probability_Weighted 7\n",
      "Probability_Weighted 8\n",
      "Probability_Weighted 9\n",
      "Probability_Weighted 10\n",
      "Probability_Weighted 11\n",
      "Probability_Weighted 12\n",
      "Probability_Weighted 13\n",
      "Probability_Weighted 14\n",
      "Probability_Weighted 15\n",
      "Probability_Weighted 16\n",
      "Probability_Weighted 17\n",
      "Probability_Weighted 18\n",
      "Probability_Weighted 19\n",
      "Probability_Weighted 20\n",
      "Probability_Weighted 21\n",
      "Probability_Weighted 22\n",
      "Probability_Weighted 23\n",
      "Probability_Weighted 24\n",
      "Probability_Weighted 25\n",
      "Probability_Weighted 26\n",
      "Probability_Weighted 27\n",
      "Probability_Weighted 28\n",
      "Probability_Weighted 29\n",
      "Probability_Weighted 30\n",
      "Steps_Cells 1\n",
      "Steps_Cells 2\n",
      "Steps_Cells 3\n",
      "Steps_Cells 4\n",
      "Steps_Cells 5\n",
      "Steps_Cells 6\n",
      "Steps_Cells 7\n",
      "Steps_Cells 8\n",
      "Steps_Cells 9\n",
      "Steps_Cells 10\n",
      "Steps_Cells 11\n",
      "Steps_Cells 12\n",
      "Steps_Cells 13\n",
      "Steps_Cells 14\n",
      "Steps_Cells 15\n",
      "Steps_Cells 16\n",
      "Steps_Cells 17\n",
      "Steps_Cells 18\n",
      "Steps_Cells 19\n",
      "Steps_Cells 20\n",
      "Steps_Cells 21\n",
      "Steps_Cells 22\n",
      "Steps_Cells 23\n",
      "Steps_Cells 24\n",
      "Steps_Cells 25\n",
      "Steps_Cells 26\n",
      "Steps_Cells 27\n",
      "Steps_Cells 28\n",
      "Steps_Cells 29\n",
      "Steps_Cells 30\n",
      "Combined_No_Memory 1\n",
      "Combined_No_Memory 2\n",
      "Combined_No_Memory 3\n",
      "Combined_No_Memory 4\n",
      "Combined_No_Memory 5\n",
      "Combined_No_Memory 6\n",
      "Combined_No_Memory 7\n",
      "Combined_No_Memory 8\n",
      "Combined_No_Memory 9\n",
      "Combined_No_Memory 10\n",
      "Combined_No_Memory 11\n",
      "Combined_No_Memory 12\n",
      "Combined_No_Memory 13\n",
      "Combined_No_Memory 14\n",
      "Combined_No_Memory 15\n",
      "Combined_No_Memory 16\n",
      "Combined_No_Memory 17\n",
      "Combined_No_Memory 18\n",
      "Combined_No_Memory 19\n",
      "Combined_No_Memory 20\n",
      "Combined_No_Memory 21\n",
      "Combined_No_Memory 22\n",
      "Combined_No_Memory 23\n",
      "Combined_No_Memory 24\n",
      "Combined_No_Memory 25\n",
      "Combined_No_Memory 26\n",
      "Combined_No_Memory 27\n",
      "Combined_No_Memory 28\n",
      "Combined_No_Memory 29\n",
      "Combined_No_Memory 30\n",
      "Combined_Memory 1\n",
      "Combined_Memory 2\n",
      "Combined_Memory 3\n",
      "Combined_Memory 4\n",
      "Combined_Memory 5\n",
      "Combined_Memory 6\n",
      "Combined_Memory 7\n",
      "Combined_Memory 8\n",
      "Combined_Memory 9\n",
      "Combined_Memory 10\n",
      "Combined_Memory 11\n",
      "Combined_Memory 12\n",
      "Combined_Memory 13\n",
      "Combined_Memory 14\n",
      "Combined_Memory 15\n",
      "Combined_Memory 16\n",
      "Combined_Memory 17\n",
      "Combined_Memory 18\n",
      "Combined_Memory 19\n",
      "Combined_Memory 20\n",
      "Combined_Memory 21\n",
      "Combined_Memory 22\n",
      "Combined_Memory 23\n",
      "Combined_Memory 24\n",
      "Combined_Memory 25\n",
      "Combined_Memory 26\n",
      "Combined_Memory 27\n",
      "Combined_Memory 28\n",
      "Combined_Memory 29\n",
      "Combined_Memory 30\n"
     ]
    }
   ],
   "source": [
    "from collections import deque\n",
    "def distance_to_exit(maze, point1, point2):\n",
    "    \"\"\"\n",
    "    Get the distance from point to point using bfs.\n",
    "    \"\"\"\n",
    "    non_walls = set(maze.black) | set(maze.path) | set([maze.exit]) | set([maze.start])\n",
    "    q = deque() # (row, col, distance)\n",
    "    q.append((point1[0], point1[1], 0))\n",
    "    while q:\n",
    "        row, col, distance = q.popleft()\n",
    "        if (row, col) == point2:\n",
    "            return distance\n",
    "        if (row, col) not in non_walls:\n",
    "            continue\n",
    "        non_walls.remove((row, col))\n",
    "        q.append((row + 1, col, distance + 1))\n",
    "        q.append((row - 1, col, distance + 1))\n",
    "        q.append((row, col + 1, distance + 1))\n",
    "        q.append((row, col - 1, distance + 1))\n",
    "    return float('inf')   \n",
    "\n",
    "# calculate expected total path length for each model\n",
    "def calculate_path_length_probs(maze_object, model_choice_probs, path_length_probs, current_length, current_prob=1, exited=False):\n",
    "    # Check if the current maze object is the exit\n",
    "    if exited:\n",
    "        # Update the probability of the current path length if the current maze object is the exit\n",
    "        path_length_probs[current_length] = path_length_probs.get(current_length, 0) + current_prob\n",
    "        # if path_length_probs.get(current_length, 0) + current_prob > 1:\n",
    "        #     print(path_length_probs.get(current_length, 0) + current_prob)\n",
    "    else:\n",
    "        if maze_object.exit is None:\n",
    "            exited = True\n",
    "        # Get the choice probabilities for the current maze object\n",
    "        probs = model_choice_probs[maze_object]\n",
    "        # Recursively visit the children of the current maze object\n",
    "        for child, prob in probs.items():\n",
    "            calculate_path_length_probs(child, model_choice_probs, path_length_probs, current_length + distance_to_exit(maze_object, maze_object.pos, child.pos), current_prob * prob, exited)\n",
    "    return path_length_probs\n",
    "\n",
    "# Initialize a dictionary to store the probability of each path length\n",
    "# path_length_probs = {}\n",
    "# Start the recursive function at the starting maze object\n",
    "model_to_path_length_probs = {model.model_name: [] for model in models}\n",
    "for model in models:\n",
    "    for maze in mazes_list:\n",
    "        print(model.model_name, maze.name)\n",
    "        path_length_probs = {}\n",
    "        choice_probs_list = model.choice_probs(mazes_list)\n",
    "        all_model_choice_probs = {}\n",
    "        for cp in model.choice_probs(mazes_list):\n",
    "            all_model_choice_probs.update(cp)\n",
    "        result = calculate_path_length_probs(maze, all_model_choice_probs, path_length_probs, 0)\n",
    "        model_to_path_length_probs[model.model_name].append(result)"
   ]
  },
  {
   "cell_type": "code",
   "execution_count": 21,
   "metadata": {},
   "outputs": [
    {
     "name": "stdout",
     "output_type": "stream",
     "text": [
      "Expected_Utility\n",
      "Discounted_Utility\n",
      "Random\n",
      "Probability_Weighted\n",
      "Steps_Cells\n",
      "Combined_No_Memory\n",
      "Combined_Memory\n"
     ]
    }
   ],
   "source": [
    "def get_combinations(path_length_probs_list):\n",
    "    # initialize the combinations dictionary with the first maze's path length probabilities\n",
    "    combinations = path_length_probs_list[0]\n",
    "    # iterate over the rest of the mazes\n",
    "    for i in range(1, len(path_length_probs_list)):\n",
    "        # get the path length probabilities for the current maze\n",
    "        probs = path_length_probs_list[i]\n",
    "        # create a temporary dictionary to store the updated combinations\n",
    "        temp = {}\n",
    "        # iterate over the combinations and probs dictionaries\n",
    "        for path_length1, prob1 in combinations.items():\n",
    "            for path_length2, prob2 in probs.items():\n",
    "                # add the path lengths and update the probability\n",
    "                total_length = path_length1 + path_length2\n",
    "                total_prob = prob1 * prob2\n",
    "                if total_length in temp:\n",
    "                    temp[total_length] += total_prob\n",
    "                else:\n",
    "                    temp[total_length] = total_prob\n",
    "        # update the combinations dictionary with the new values\n",
    "        combinations = temp\n",
    "    return combinations\n",
    "# calculate the probability of each overall path length for each model\n",
    "combinations = {}\n",
    "for model in models:\n",
    "    print(model.model_name)\n",
    "    path_length_probs_list = model_to_path_length_probs[model.model_name]\n",
    "    combinations[model.model_name] = get_combinations(path_length_probs_list)\n"
   ]
  },
  {
   "cell_type": "code",
   "execution_count": 47,
   "metadata": {},
   "outputs": [
    {
     "data": {
      "text/plain": [
       "<matplotlib.legend.Legend at 0x7f99a10b4c70>"
      ]
     },
     "execution_count": 47,
     "metadata": {},
     "output_type": "execute_result"
    },
    {
     "data": {
      "image/png": "[encoded data removed]",
      "text/plain": [
       "<Figure size 640x480 with 1 Axes>"
      ]
     },
     "metadata": {},
     "output_type": "display_data"
    }
   ],
   "source": [
    "# histogram: probability of each overall path length for each model\n",
    "import collections\n",
    "bins = np.linspace(900, 2000, 20)\n",
    "for model in models:\n",
    "    plt.hist(combinations[model.model_name].keys(), weights=combinations[model.model_name].values(), bins=bins, alpha=0.2, label=model.model_name, edgecolor='black', linewidth=1.2)\n",
    "# add human data to the histogram\n",
    "human_path_lengths = collections.Counter(total_path_length_per_user)\n",
    "human_path_lengths = {k: v / len(total_path_length_per_user) for k, v in human_path_lengths.items()}\n",
    "# plt.hist(human_path_lengths.keys(), weights=human_path_lengths.values(), bins=bins, alpha=0.2, label='Human', edgecolor='black', linewidth=1.2)\n",
    "plt.title('Average Total Steps')\n",
    "plt.legend()"
   ]
  },
  {
   "cell_type": "code",
   "execution_count": 34,
   "metadata": {},
   "outputs": [],
   "source": [
    "# import csv\n",
    "# # save combinations to csv\n",
    "# with open('combinations.csv', 'w') as f:\n",
    "#     writer = csv.writer(f)\n",
    "#     writer.writerow(['model', 'path_length', 'probability'])\n",
    "#     for model in models:\n",
    "#         for path_length, prob in combinations[model.model_name].items():\n",
    "#             writer.writerow([model.model_name, path_length, prob])"
   ]
  },
  {
   "cell_type": "code",
   "execution_count": null,
   "metadata": {},
   "outputs": [],
   "source": []
  }
 ],
 "metadata": {
  "kernelspec": {
   "display_name": "Python 3.8.13",
   "language": "python",
   "name": "python3"
  },
  "language_info": {
   "codemirror_mode": {
    "name": "ipython",
    "version": 3
   },
   "file_extension": ".py",
   "mimetype": "text/x-python",
   "name": "python",
   "nbconvert_exporter": "python",
   "pygments_lexer": "ipython3",
   "version": "3.8.13"
  },
  "orig_nbformat": 4,
  "vscode": {
   "interpreter": {
    "hash": "8dc76ab590314451be827356f99cab7a94bc05d7230ce439aedd1f35ce438372"
   }
  }
 },
 "nbformat": 4,
 "nbformat_minor": 2
}
