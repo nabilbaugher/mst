{
 "cells": [
  {
   "cell_type": "code",
   "execution_count": 1,
   "metadata": {},
   "outputs": [],
   "source": [
    "import matplotlib.pyplot as plt\n",
    "import pandas as pd"
   ]
  },
  {
   "cell_type": "code",
   "execution_count": 31,
   "metadata": {},
   "outputs": [
    {
     "data": {
      "text/html": [
       "<div>\n",
       "<style scoped>\n",
       "    .dataframe tbody tr th:only-of-type {\n",
       "        vertical-align: middle;\n",
       "    }\n",
       "\n",
       "    .dataframe tbody tr th {\n",
       "        vertical-align: top;\n",
       "    }\n",
       "\n",
       "    .dataframe thead th {\n",
       "        text-align: right;\n",
       "    }\n",
       "</style>\n",
       "<table border=\"1\" class=\"dataframe\">\n",
       "  <thead>\n",
       "    <tr style=\"text-align: right;\">\n",
       "      <th></th>\n",
       "      <th>subject</th>\n",
       "      <th>preferred_model</th>\n",
       "      <th>evaluation</th>\n",
       "      <th>parameters</th>\n",
       "    </tr>\n",
       "  </thead>\n",
       "  <tbody>\n",
       "    <tr>\n",
       "      <th>0</th>\n",
       "      <td>0e9aebe0-7972-11ed-9421-5535258a0716</td>\n",
       "      <td>Combined_Memory</td>\n",
       "      <td>-0.437731</td>\n",
       "      <td>[0.0, 1.5, 0.75, 0.1, 10.0]</td>\n",
       "    </tr>\n",
       "    <tr>\n",
       "      <th>1</th>\n",
       "      <td>14914210-7972-11ed-a3bb-674c56c9a5f7</td>\n",
       "      <td>Combined_Memory</td>\n",
       "      <td>-0.449267</td>\n",
       "      <td>[0.0, 1.0, 0.5, 0.1, 10.0]</td>\n",
       "    </tr>\n",
       "    <tr>\n",
       "      <th>2</th>\n",
       "      <td>1af65fa0-7972-11ed-8e76-65fbafc77b31</td>\n",
       "      <td>Steps_Cells</td>\n",
       "      <td>-0.475267</td>\n",
       "      <td>[2.0, 10.0]</td>\n",
       "    </tr>\n",
       "    <tr>\n",
       "      <th>3</th>\n",
       "      <td>1c5fb3a0-7972-11ed-92f5-192da827d727</td>\n",
       "      <td>Probability_Weighted</td>\n",
       "      <td>-0.459824</td>\n",
       "      <td>[1.0, 1.25, 10.0]</td>\n",
       "    </tr>\n",
       "    <tr>\n",
       "      <th>4</th>\n",
       "      <td>1ed4f960-7972-11ed-abfe-53a0662f3357</td>\n",
       "      <td>Random</td>\n",
       "      <td>-0.484267</td>\n",
       "      <td>[0.0, 10.0]</td>\n",
       "    </tr>\n",
       "  </tbody>\n",
       "</table>\n",
       "</div>"
      ],
      "text/plain": [
       "                                subject       preferred_model  evaluation  \\\n",
       "0  0e9aebe0-7972-11ed-9421-5535258a0716       Combined_Memory   -0.437731   \n",
       "1  14914210-7972-11ed-a3bb-674c56c9a5f7       Combined_Memory   -0.449267   \n",
       "2  1af65fa0-7972-11ed-8e76-65fbafc77b31           Steps_Cells   -0.475267   \n",
       "3  1c5fb3a0-7972-11ed-92f5-192da827d727  Probability_Weighted   -0.459824   \n",
       "4  1ed4f960-7972-11ed-abfe-53a0662f3357                Random   -0.484267   \n",
       "\n",
       "                    parameters  \n",
       "0  [0.0, 1.5, 0.75, 0.1, 10.0]  \n",
       "1   [0.0, 1.0, 0.5, 0.1, 10.0]  \n",
       "2                  [2.0, 10.0]  \n",
       "3            [1.0, 1.25, 10.0]  \n",
       "4                  [0.0, 10.0]  "
      ]
     },
     "execution_count": 31,
     "metadata": {},
     "output_type": "execute_result"
    }
   ],
   "source": [
    "df = pd.read_csv('data/current_model_prefs.csv')\n",
    "df.drop('Unnamed: 0', axis=1, inplace=True)\n",
    "df.head()"
   ]
  },
  {
   "cell_type": "code",
   "execution_count": 32,
   "metadata": {},
   "outputs": [],
   "source": [
    "# get fraction of subjects who prefer each model\n",
    "bar_chart_data = {}\n",
    "for model in ['Combined_Memory', 'Combined_No_Memory', 'Steps_Cells', 'Discounted_Utility', 'Probability_Weighted', 'Expected_Utility', 'Random']:\n",
    "    bar_chart_data[model] = df[df['preferred_model'] == model]['subject'].nunique()/df['subject'].nunique()"
   ]
  },
  {
   "cell_type": "code",
   "execution_count": 33,
   "metadata": {},
   "outputs": [
    {
     "data": {
      "image/png": "[encoded data removed]",
      "text/plain": [
       "<Figure size 640x480 with 1 Axes>"
      ]
     },
     "metadata": {},
     "output_type": "display_data"
    }
   ],
   "source": [
    "# plot bar chart in sorted order\n",
    "sorted_keys = sorted(bar_chart_data, key=bar_chart_data.get, reverse=True)\n",
    "sorted_values = [bar_chart_data[key] for key in sorted_keys]\n",
    "plt.bar(sorted_keys, sorted_values)\n",
    "plt.xticks(rotation='vertical')\n",
    "plt.show()"
   ]
  },
  {
   "cell_type": "code",
   "execution_count": null,
   "metadata": {},
   "outputs": [],
   "source": []
  },
  {
   "cell_type": "code",
   "execution_count": null,
   "metadata": {},
   "outputs": [],
   "source": []
  }
 ],
 "metadata": {
  "kernelspec": {
   "display_name": "Python 3.10.8 64-bit",
   "language": "python",
   "name": "python3"
  },
  "language_info": {
   "codemirror_mode": {
    "name": "ipython",
    "version": 3
   },
   "file_extension": ".py",
   "mimetype": "text/x-python",
   "name": "python",
   "nbconvert_exporter": "python",
   "pygments_lexer": "ipython3",
   "version": "3.10.8"
  },
  "orig_nbformat": 4,
  "vscode": {
   "interpreter": {
    "hash": "aee8b7b246df8f9039afb4144a1f6fd8d2ca17a180786b69acc140d282b71a49"
   }
  }
 },
 "nbformat": 4,
 "nbformat_minor": 2
}
